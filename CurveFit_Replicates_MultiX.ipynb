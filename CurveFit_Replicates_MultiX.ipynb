{
 "cells": [
  {
   "cell_type": "code",
   "execution_count": 1,
   "metadata": {
    "collapsed": true
   },
   "outputs": [],
   "source": [
    "%matplotlib inline\n",
    "import numpy as np\n",
    "import matplotlib.pyplot as plt\n",
    "import pandas as pd\n",
    "from scipy.optimize import curve_fit"
   ]
  },
  {
   "cell_type": "code",
   "execution_count": 2,
   "metadata": {
    "collapsed": true
   },
   "outputs": [],
   "source": [
    "def equation_to_fit(x, basal, maximal, Kd, n):\n",
    "    return basal + maximal * (x**n / (Kd + x**n))\n",
    "\n",
    "def log_equation_to_fit(x, basal, maximal, Kd, n):\n",
    "    return np.log10(equation_to_fit(x, basal, maximal, Kd, n))\n",
    "# Unfortunately this is a necessary hack because the curve_fit function doesn't allow you to input function(function)\n",
    "\n",
    "list_of_params_to_fit = ['Basal', 'Max', 'Kd', 'n']"
   ]
  },
  {
   "cell_type": "code",
   "execution_count": 3,
   "metadata": {
    "collapsed": true
   },
   "outputs": [],
   "source": [
    "def report_paramaters(fit_param_names, fit_param_values, fit_param_stdevs):\n",
    "    for each in range(len(fit_param_names)):\n",
    "        print(fit_param_names[each], 'is', fit_param_values[each], 'with a standard deviation of', fit_param_stdevs[each])"
   ]
  },
  {
   "cell_type": "code",
   "execution_count": 4,
   "metadata": {
    "collapsed": true
   },
   "outputs": [],
   "source": [
    "# Use this cell to make fake replicates if you want to practice or something\n",
    "'''Let us make some fake replicates'''\n",
    "'''\n",
    "replicates_to_make = 8\n",
    "for i in range(0, replicates_to_make):\n",
    "    noise_factor = np.random.randn()*0.1\n",
    "    new_fake_y_name = 'replicate' + str(i)\n",
    "    MyData[new_fake_y_name] = MyData.iloc[:,1] + noise_factor*MyData.iloc[:,1]\n",
    "MyData['replicate4'] = MyData.iloc[:,1] + 0.5*MyData.iloc[:,1]\n",
    "MyData\n",
    "'''\n",
    "True;"
   ]
  },
  {
   "cell_type": "code",
   "execution_count": 5,
   "metadata": {},
   "outputs": [],
   "source": [
    "# if you have some replicates with different X values, or missing Y values for a given X value\n",
    "# example:\n",
    "# X  Y1    X  Y2    X  Y3\n",
    "# 1  4     1  4     2  5\n",
    "# 2  8     3  7     3  8\n",
    "# 3  9     4  8     4  9\n",
    "# 4  9     5  10    5  10\n",
    "# Then you can use this code below:\n",
    "# Does not weigh according to N, assumes all data sets have roughly same predictive power!\n",
    "path = \"/Users/Nicholas DeLateur/JupyterNotebooks/Curve Fitting/HillTestData_multiX.xlsx\"\n",
    "MyData = pd.read_excel(path)\n",
    "######################## Some reminders ####################################\n",
    "# MyData                                    # Shows the entire dataframe\n",
    "# MyData.x                                  # Data of column called \"x\"\n",
    "# MyData.iloc[0,:]                          # First row\n",
    "# MyData.iloc[:,0]                          # First column\n",
    "# MyData.columns[0]                         # Name of first column\n",
    "# MyData['Seconds'] = 3600 * MyData.Hours   # Create a new column named as such and caluclated as such\n",
    "\n",
    "n_replicates = MyData.shape[1] // 2\n",
    "\n",
    "total_x_data = pd.DataFrame()\n",
    "total_y_data = pd.DataFrame()\n",
    "for i in range(0,n_replicates*2):\n",
    "    if i%2==0:\n",
    "        total_x_data = pd.Series.append(total_x_data, MyData.iloc[:,i])\n",
    "        total_y_data = pd.Series.append(total_y_data, MyData.iloc[:,i+1])\n",
    "        i=+1\n",
    "\n",
    "x = total_x_data.iloc[:,0]\n",
    "y = total_y_data.iloc[:,0]"
   ]
  },
  {
   "cell_type": "code",
   "execution_count": 6,
   "metadata": {},
   "outputs": [
    {
     "name": "stdout",
     "output_type": "stream",
     "text": [
      "Basal is 2.91892781304 with a standard deviation of 0.151828656444\n",
      "Max is 1674.68016915 with a standard deviation of 45.525411346\n",
      "Kd is 33.3810777583 with a standard deviation of 1.48359187301\n",
      "n is 1.20234987823 with a standard deviation of 0.02361999845\n"
     ]
    }
   ],
   "source": [
    "'''Return the fitted paramaters and their covariance for the fitted curve'''\n",
    "init_guess = [100, 100, 100, 2]\n",
    "low_bounds = [0, 0, 0, 0]\n",
    "up_bounds = [1000000, 1000000, 1000000, 10]\n",
    "\n",
    "fit_params, covar = curve_fit(log_equation_to_fit, x, np.log10(y), p0 = init_guess, bounds=(low_bounds, up_bounds))\n",
    "# Fitting the log of the data to the log of the equation removes bias towards the high points by the residuals\n",
    "# Treats the data more equally; allow accurate basal parameter estimation with minimal loss of accuracy of the maximal expression\n",
    "\n",
    "std_dev_error_of_fit_params = np.sqrt(np.diag(covar))\n",
    "report_paramaters(list_of_params_to_fit, fit_params, std_dev_error_of_fit_params)"
   ]
  },
  {
   "cell_type": "code",
   "execution_count": 10,
   "metadata": {},
   "outputs": [
    {
     "data": {
      "image/png": "[encoded data removed]",
      "text/plain": [
       "<matplotlib.figure.Figure at 0xc214e10>"
      ]
     },
     "metadata": {},
     "output_type": "display_data"
    }
   ],
   "source": [
    "#plt.scatter(x, y, c='b', label='Data')\n",
    "#plt.figure(figsize=(8,6))\n",
    "for i in range(0, n_replicates*2):\n",
    "    if i%2==0:\n",
    "        j = i+1\n",
    "        plt.scatter(MyData.iloc[:,i], MyData.iloc[:,j])\n",
    "    \n",
    "plt.plot(MyData.iloc[:,0], equation_to_fit(MyData.iloc[:,0], *fit_params), c='black', label='fit')\n",
    "plt.xlabel('3OC12HSL (nM)')\n",
    "plt.ylabel('GFP (GeoMean MEFL)')\n",
    "plt.suptitle('Induction curve for the pLas promoter', fontsize=12)\n",
    "plt.legend(loc = 'best')\n",
    "plt.xscale('log')\n",
    "plt.xlim(0.01, 1000)\n",
    "plt.yscale('log')\n",
    "plt.grid()\n",
    "plt.savefig('pLasInductionCurve.png', transparent=True, bbox_inches='tight')\n",
    "plt.show()"
   ]
  },
  {
   "cell_type": "code",
   "execution_count": null,
   "metadata": {
    "collapsed": true
   },
   "outputs": [],
   "source": []
  }
 ],
 "metadata": {
  "anaconda-cloud": {},
  "kernelspec": {
   "display_name": "Python 3",
   "language": "python",
   "name": "python3"
  },
  "language_info": {
   "codemirror_mode": {
    "name": "ipython",
    "version": 3
   },
   "file_extension": ".py",
   "mimetype": "text/x-python",
   "name": "python",
   "nbconvert_exporter": "python",
   "pygments_lexer": "ipython3",
   "version": "3.6.3"
  }
 },
 "nbformat": 4,
 "nbformat_minor": 1
}
