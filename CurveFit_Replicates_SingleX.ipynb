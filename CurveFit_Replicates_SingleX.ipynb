{
 "cells": [
  {
   "cell_type": "code",
   "execution_count": 1,
   "metadata": {
    "collapsed": true
   },
   "outputs": [],
   "source": [
    "%matplotlib inline\n",
    "import numpy as np\n",
    "import matplotlib.pyplot as plt\n",
    "import pandas as pd\n",
    "from scipy.optimize import curve_fit"
   ]
  },
  {
   "cell_type": "code",
   "execution_count": 2,
   "metadata": {
    "collapsed": true
   },
   "outputs": [],
   "source": [
    "def equation_to_fit(x, basal, maximal, Kd, n):\n",
    "    return basal + maximal * (x**n / (Kd + x**n))\n",
    "\n",
    "def log_equation_to_fit(x, basal, maximal, Kd, n):\n",
    "    return np.log10(equation_to_fit(x, basal, maximal, Kd, n))\n",
    "# Unfortunately this is a necessary hack because the curve_fit function doesn't allow you to input function(function)\n",
    "\n",
    "list_of_params_to_fit = ['Basal', 'Max', 'Kd', 'n']"
   ]
  },
  {
   "cell_type": "code",
   "execution_count": 3,
   "metadata": {
    "collapsed": true
   },
   "outputs": [],
   "source": [
    "def report_paramaters(fit_param_names, fit_param_values, fit_param_stdevs):\n",
    "    for each in range(len(fit_param_names)):\n",
    "        print(fit_param_names[each], 'is', fit_param_values[each], 'with a standard deviation of', fit_param_stdevs[each])"
   ]
  },
  {
   "cell_type": "code",
   "execution_count": 4,
   "metadata": {
    "collapsed": true
   },
   "outputs": [],
   "source": [
    "# Use this cell to make fake replicates if you want to practice or something\n",
    "'''Let us make some fake replicates'''\n",
    "'''\n",
    "replicates_to_make = 8\n",
    "for i in range(0, replicates_to_make):\n",
    "    noise_factor = np.random.randn()*0.1\n",
    "    new_fake_y_name = 'replicate' + str(i)\n",
    "    MyData[new_fake_y_name] = MyData.iloc[:,1] + noise_factor*MyData.iloc[:,1]\n",
    "MyData['replicate4'] = MyData.iloc[:,1] + 0.5*MyData.iloc[:,1]\n",
    "MyData\n",
    "'''\n",
    "True;"
   ]
  },
  {
   "cell_type": "code",
   "execution_count": 5,
   "metadata": {},
   "outputs": [
    {
     "name": "stdout",
     "output_type": "stream",
     "text": [
      "0     2000.00\n",
      "1     1000.00\n",
      "2      500.00\n",
      "3      100.00\n",
      "4       50.00\n",
      "5       10.00\n",
      "6        5.00\n",
      "7        1.00\n",
      "8        0.50\n",
      "9        0.10\n",
      "10       0.05\n",
      "11       0.01\n",
      "0     2000.00\n",
      "1     1000.00\n",
      "2      500.00\n",
      "3      100.00\n",
      "4       50.00\n",
      "5       10.00\n",
      "6        5.00\n",
      "7        1.00\n",
      "8        0.50\n",
      "9        0.10\n",
      "10       0.05\n",
      "11       0.01\n",
      "Name: 0, dtype: float64 0     1458.900\n",
      "1     1776.500\n",
      "2     1705.000\n",
      "3     1435.500\n",
      "4     1382.700\n",
      "5      632.500\n",
      "6      279.400\n",
      "7       50.490\n",
      "8       24.970\n",
      "9        6.204\n",
      "10       5.104\n",
      "11       2.926\n",
      "0     1783.100\n",
      "1     1776.500\n",
      "2     1705.000\n",
      "3     1435.500\n",
      "4     1382.700\n",
      "5      632.500\n",
      "6      279.400\n",
      "7       50.490\n",
      "8       24.970\n",
      "9        6.204\n",
      "10       5.104\n",
      "11       2.926\n",
      "Name: 0, dtype: float64\n"
     ]
    }
   ],
   "source": [
    "# if all your X values are the same, with the same amount of Y values\n",
    "# example:\n",
    "# X    Y1    Y2    Y3\n",
    "# 1    4     5     4\n",
    "# 2    8     7     7\n",
    "# 3    9     9     8\n",
    "# 4    9     9     9\n",
    "# Then you can use this code below:\n",
    "path = \"/Users/Nicholas DeLateur/JupyterNotebooks/Curve Fitting/HillTestData_singleX.xlsx\"\n",
    "MyData = pd.read_excel(path)\n",
    "######################## Some reminders ####################################\n",
    "# MyData                                    # Shows the entire dataframe\n",
    "# MyData.x                                  # Data of column called \"x\"\n",
    "# MyData.iloc[0,:]                          # First row\n",
    "# MyData.iloc[:,0]                          # First column\n",
    "# MyData.columns[0]                         # Name of first column\n",
    "# MyData['Seconds'] = 3600 * MyData.Hours   # Create a new column named as such and caluclated as such\n",
    "\n",
    "n_replicates = MyData.shape[1]-1\n",
    "\n",
    "total_x_data = pd.DataFrame()\n",
    "for _ in range(1,n_replicates):\n",
    "    total_x_data = pd.Series.append(total_x_data, MyData.iloc[:,0])\n",
    "\n",
    "total_y_data = pd.DataFrame()\n",
    "for i in range(1,n_replicates):\n",
    "    total_y_data = pd.Series.append(total_y_data, MyData.iloc[:,i])\n",
    "    \n",
    "x = total_x_data.iloc[:,0]\n",
    "y = total_y_data.iloc[:,0]\n",
    "print(x,y)"
   ]
  },
  {
   "cell_type": "code",
   "execution_count": 6,
   "metadata": {},
   "outputs": [
    {
     "name": "stdout",
     "output_type": "stream",
     "text": [
      "Basal is 3.02040799066 with a standard deviation of 0.179749605967\n",
      "Max is 1713.74736977 with a standard deviation of 53.334177111\n",
      "Kd is 33.0756750844 with a standard deviation of 1.68697018253\n",
      "n is 1.20487653179 with a standard deviation of 0.0272203898869\n"
     ]
    }
   ],
   "source": [
    "'''Return the fitted paramaters and their covariance for the fitted curve'''\n",
    "init_guess = [100, 100, 100, 2]\n",
    "low_bounds = [0, 0, 0, 0]\n",
    "up_bounds = [1000000, 1000000, 1000000, 10]\n",
    "\n",
    "fit_params, covar = curve_fit(log_equation_to_fit, x, np.log10(y), p0 = init_guess, bounds=(low_bounds, up_bounds))\n",
    "# Fitting the log of the data to the log of the equation removes bias towards the high points by the residuals\n",
    "# Treats the data more equally; allow accurate basal parameter estimation with minimal loss of accuracy of the maximal expression\n",
    "\n",
    "std_dev_error_of_fit_params = np.sqrt(np.diag(covar))\n",
    "report_paramaters(list_of_params_to_fit, fit_params, std_dev_error_of_fit_params)"
   ]
  },
  {
   "cell_type": "code",
   "execution_count": 8,
   "metadata": {},
   "outputs": [
    {
     "data": {
      "image/png": "[encoded data removed]",
      "text/plain": [
       "<matplotlib.figure.Figure at 0xbfea7b8>"
      ]
     },
     "metadata": {},
     "output_type": "display_data"
    }
   ],
   "source": [
    "#plt.scatter(x, y, c='b', label='Data')\n",
    "#plt.figure(figsize=(8,6))\n",
    "for i in range(1,n_replicates+1):\n",
    "    plt.scatter(MyData.iloc[:,0], MyData.iloc[:,i])\n",
    "\n",
    "plt.plot(MyData.iloc[:,0], equation_to_fit(MyData.iloc[:,0], *fit_params), c='black', label='fit')\n",
    "plt.xlabel('3OC12HSL (nM)')\n",
    "plt.ylabel('GFP (GeoMean MEFL)')\n",
    "plt.suptitle('Induction curve for the pLas promoter', fontsize=12)\n",
    "plt.legend(loc = 'best')\n",
    "plt.xscale('log')\n",
    "plt.xlim(0.01, 1000)\n",
    "plt.yscale('log')\n",
    "plt.grid()\n",
    "plt.savefig('pLasInductionCurve.png', transparent=True, bbox_inches='tight')\n",
    "plt.show()"
   ]
  },
  {
   "cell_type": "code",
   "execution_count": null,
   "metadata": {
    "collapsed": true
   },
   "outputs": [],
   "source": []
  }
 ],
 "metadata": {
  "anaconda-cloud": {},
  "kernelspec": {
   "display_name": "Python 3",
   "language": "python",
   "name": "python3"
  },
  "language_info": {
   "codemirror_mode": {
    "name": "ipython",
    "version": 3
   },
   "file_extension": ".py",
   "mimetype": "text/x-python",
   "name": "python",
   "nbconvert_exporter": "python",
   "pygments_lexer": "ipython3",
   "version": "3.6.3"
  }
 },
 "nbformat": 4,
 "nbformat_minor": 1
}
