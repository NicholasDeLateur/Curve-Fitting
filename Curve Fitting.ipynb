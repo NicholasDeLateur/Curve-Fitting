{
 "cells": [
  {
   "cell_type": "code",
   "execution_count": 1,
   "metadata": {
    "collapsed": false
   },
   "outputs": [],
   "source": [
    "%matplotlib inline\n",
    "import numpy as np\n",
    "import matplotlib.pyplot as plt\n",
    "from scipy.optimize import curve_fit"
   ]
  },
  {
   "cell_type": "code",
   "execution_count": 7,
   "metadata": {
    "collapsed": true
   },
   "outputs": [],
   "source": [
    "def equation_to_fit(x, Vmax, Kd):\n",
    "    return (Vmax * x) / (Kd + x)"
   ]
  },
  {
   "cell_type": "code",
   "execution_count": 47,
   "metadata": {
    "collapsed": false
   },
   "outputs": [
    {
     "data": {
      "image/png": "[encoded data removed]",
      "text/plain": [
       "<matplotlib.figure.Figure at 0xa457a90>"
      ]
     },
     "metadata": {},
     "output_type": "display_data"
    }
   ],
   "source": [
    "x_data = np.linspace(0, 100, 24)\n",
    "y_truedata = func(x_data, 10, 2)\n",
    "\n",
    "'''Create some noise and add it to the y values to represent experimental data'''\n",
    "y_noise = 0.2 * np.random.normal(size=x_data.size)\n",
    "y_noisedata = y_truedata + y_noise\n",
    "\n",
    "'''Return the fitted paramaters and their covariance for the fitted curve'''\n",
    "fit_params, covariance_of_params = curve_fit(equation_to_fit, x_data, y_noisedata, bounds=(0, [100, 1000]))\n",
    "\n",
    "plt.scatter(x_data, y_truedata, c='b', label='true')\n",
    "plt.plot(x_data, y_noisedata, c='g', label='data')\n",
    "plt.plot(x_data, func(x_data, *fit_params), c='r', label='fit')\n",
    "plt.xlabel('x')\n",
    "plt.ylabel('y')\n",
    "plt.legend(loc = 'best')\n",
    "plt.show()"
   ]
  },
  {
   "cell_type": "code",
   "execution_count": 58,
   "metadata": {
    "collapsed": false
   },
   "outputs": [
    {
     "name": "stdout",
     "output_type": "stream",
     "text": [
      "[ 9.93883757  1.88455428]\n",
      "[[ 0.00367111  0.00658833]\n",
      " [ 0.00658833  0.02385041]]\n"
     ]
    }
   ],
   "source": [
    "print(fit_params)\n",
    "print(covariance_of_params)"
   ]
  },
  {
   "cell_type": "code",
   "execution_count": 59,
   "metadata": {
    "collapsed": false
   },
   "outputs": [],
   "source": [
    "std_dev_error_of_fit_params = np.sqrt(np.diag(covariance_of_params))"
   ]
  },
  {
   "cell_type": "code",
   "execution_count": 60,
   "metadata": {
    "collapsed": false
   },
   "outputs": [
    {
     "name": "stdout",
     "output_type": "stream",
     "text": [
      "[ 0.06058972  0.15443576]\n"
     ]
    }
   ],
   "source": [
    "print(std_dev_error_of_fit_params)"
   ]
  },
  {
   "cell_type": "code",
   "execution_count": null,
   "metadata": {
    "collapsed": true
   },
   "outputs": [],
   "source": []
  }
 ],
 "metadata": {
  "kernelspec": {
   "display_name": "Python 3",
   "language": "python",
   "name": "python3"
  },
  "language_info": {
   "codemirror_mode": {
    "name": "ipython",
    "version": 3
   },
   "file_extension": ".py",
   "mimetype": "text/x-python",
   "name": "python",
   "nbconvert_exporter": "python",
   "pygments_lexer": "ipython3",
   "version": "3.5.4"
  }
 },
 "nbformat": 4,
 "nbformat_minor": 0
}
