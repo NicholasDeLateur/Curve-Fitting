{
 "cells": [
  {
   "cell_type": "code",
   "execution_count": 2,
   "metadata": {
    "collapsed": true
   },
   "outputs": [],
   "source": [
    "%matplotlib inline\n",
    "import numpy as np\n",
    "import matplotlib.pyplot as plt\n",
    "from scipy.optimize import curve_fit\n",
    "import pandas as pd"
   ]
  },
  {
   "cell_type": "code",
   "execution_count": 3,
   "metadata": {
    "collapsed": true
   },
   "outputs": [],
   "source": [
    "def equation_to_fit(x, Vmax, Kd, basal, n):\n",
    "    return ((Vmax * x**n) / (Kd + x**n)) + basal\n",
    "list_of_params_to_fit = ['Vmax', 'Kd', 'basal', 'n']"
   ]
  },
  {
   "cell_type": "code",
   "execution_count": 4,
   "metadata": {
    "collapsed": true
   },
   "outputs": [],
   "source": [
    "def report_paramaters(fit_param_names, fit_param_values, fit_param_stdevs):\n",
    "    for each in range(len(fit_param_names)):\n",
    "        print(fit_param_names[each], 'is', fit_param_values[each], 'with a standard deviation of', fit_param_stdevs[each])"
   ]
  },
  {
   "cell_type": "code",
   "execution_count": 16,
   "metadata": {},
   "outputs": [
    {
     "data": {
      "text/html": [
       "<div>\n",
       "<style>\n",
       "    .dataframe thead tr:only-child th {\n",
       "        text-align: right;\n",
       "    }\n",
       "\n",
       "    .dataframe thead th {\n",
       "        text-align: left;\n",
       "    }\n",
       "\n",
       "    .dataframe tbody tr th {\n",
       "        vertical-align: top;\n",
       "    }\n",
       "</style>\n",
       "<table border=\"1\" class=\"dataframe\">\n",
       "  <thead>\n",
       "    <tr style=\"text-align: right;\">\n",
       "      <th></th>\n",
       "      <th>x</th>\n",
       "      <th>y</th>\n",
       "    </tr>\n",
       "  </thead>\n",
       "  <tbody>\n",
       "    <tr>\n",
       "      <th>0</th>\n",
       "      <td>2000.00</td>\n",
       "      <td>648.00</td>\n",
       "    </tr>\n",
       "    <tr>\n",
       "      <th>1</th>\n",
       "      <td>1000.00</td>\n",
       "      <td>652.00</td>\n",
       "    </tr>\n",
       "    <tr>\n",
       "      <th>2</th>\n",
       "      <td>500.00</td>\n",
       "      <td>629.00</td>\n",
       "    </tr>\n",
       "    <tr>\n",
       "      <th>3</th>\n",
       "      <td>100.00</td>\n",
       "      <td>568.00</td>\n",
       "    </tr>\n",
       "    <tr>\n",
       "      <th>4</th>\n",
       "      <td>50.00</td>\n",
       "      <td>571.00</td>\n",
       "    </tr>\n",
       "    <tr>\n",
       "      <th>5</th>\n",
       "      <td>10.00</td>\n",
       "      <td>203.00</td>\n",
       "    </tr>\n",
       "    <tr>\n",
       "      <th>6</th>\n",
       "      <td>5.00</td>\n",
       "      <td>179.00</td>\n",
       "    </tr>\n",
       "    <tr>\n",
       "      <th>7</th>\n",
       "      <td>1.00</td>\n",
       "      <td>71.20</td>\n",
       "    </tr>\n",
       "    <tr>\n",
       "      <th>8</th>\n",
       "      <td>0.50</td>\n",
       "      <td>39.30</td>\n",
       "    </tr>\n",
       "    <tr>\n",
       "      <th>9</th>\n",
       "      <td>0.10</td>\n",
       "      <td>5.28</td>\n",
       "    </tr>\n",
       "    <tr>\n",
       "      <th>10</th>\n",
       "      <td>0.05</td>\n",
       "      <td>4.73</td>\n",
       "    </tr>\n",
       "    <tr>\n",
       "      <th>11</th>\n",
       "      <td>0.00</td>\n",
       "      <td>3.76</td>\n",
       "    </tr>\n",
       "  </tbody>\n",
       "</table>\n",
       "</div>"
      ],
      "text/plain": [
       "          x       y\n",
       "0   2000.00  648.00\n",
       "1   1000.00  652.00\n",
       "2    500.00  629.00\n",
       "3    100.00  568.00\n",
       "4     50.00  571.00\n",
       "5     10.00  203.00\n",
       "6      5.00  179.00\n",
       "7      1.00   71.20\n",
       "8      0.50   39.30\n",
       "9      0.10    5.28\n",
       "10     0.05    4.73\n",
       "11     0.00    3.76"
      ]
     },
     "execution_count": 16,
     "metadata": {},
     "output_type": "execute_result"
    }
   ],
   "source": [
    "#path = \"/Users/Weiss Lab/Documents/Jupyter Notebooks/Curve-Fitting/TestData.xlsx\"\n",
    "path = \"/Users/Nicholas/Documents/Jupyter Notebooks/Curve-Fitting/HillTestData.xlsx\"\n",
    "MyData = pd.read_excel(path)\n",
    "MyData"
   ]
  },
  {
   "cell_type": "code",
   "execution_count": 17,
   "metadata": {},
   "outputs": [
    {
     "data": {
      "image/png": "[encoded data removed]",
      "text/plain": [
       "<matplotlib.figure.Figure at 0x5847dd8>"
      ]
     },
     "metadata": {},
     "output_type": "display_data"
    },
    {
     "name": "stdout",
     "output_type": "stream",
     "text": [
      "Vmax is 631.68545374 with a standard deviation of 26.6062501646\n",
      "Kd is 27.6556241763 with a standard deviation of 13.7664334703\n",
      "basal is 18.2177235815 with a standard deviation of 15.4128482368\n",
      "n is 1.2108587789 with a standard deviation of 0.185069284824\n"
     ]
    }
   ],
   "source": [
    "'''Return the fitted paramaters and their covariance for the fitted curve'''\n",
    "init_guess = [1, 1, 1, 1]\n",
    "low_bounds = [0, 0, 0, 0]\n",
    "up_bounds = [10000, 10000, 10000, 10000]\n",
    "fit_params, covar_params = curve_fit(equation_to_fit, MyData.x, MyData.y, p0 = init_guess, bounds=(low_bounds, up_bounds)) \n",
    "std_dev_error_of_fit_params = np.sqrt(np.diag(covar_params))\n",
    "\n",
    "plt.scatter(MyData.x, MyData.y, c='g', label='data')\n",
    "plt.plot(MyData.x, equation_to_fit(MyData.x, *fit_params), c='r', label='fit')\n",
    "\n",
    "plt.xlabel('x')\n",
    "plt.ylabel('y')\n",
    "plt.legend(loc = 'best')\n",
    "plt.grid()\n",
    "plt.xscale('log')\n",
    "plt.yscale('log')\n",
    "plt.show()\n",
    "report_paramaters(list_of_params_to_fit, fit_params, std_dev_error_of_fit_params)"
   ]
  },
  {
   "cell_type": "code",
   "execution_count": 19,
   "metadata": {},
   "outputs": [
    {
     "data": {
      "text/plain": [
       "x    2000.0\n",
       "y     648.0\n",
       "Name: 0, dtype: float64"
      ]
     },
     "execution_count": 19,
     "metadata": {},
     "output_type": "execute_result"
    }
   ],
   "source": [
    "MyData.iloc[0,:]"
   ]
  },
  {
   "cell_type": "code",
   "execution_count": 20,
   "metadata": {},
   "outputs": [
    {
     "data": {
      "text/plain": [
       "0     2000.00\n",
       "1     1000.00\n",
       "2      500.00\n",
       "3      100.00\n",
       "4       50.00\n",
       "5       10.00\n",
       "6        5.00\n",
       "7        1.00\n",
       "8        0.50\n",
       "9        0.10\n",
       "10       0.05\n",
       "11       0.00\n",
       "Name: x, dtype: float64"
      ]
     },
     "execution_count": 20,
     "metadata": {},
     "output_type": "execute_result"
    }
   ],
   "source": [
    "MyData.iloc[:,0]"
   ]
  },
  {
   "cell_type": "code",
   "execution_count": null,
   "metadata": {
    "collapsed": true
   },
   "outputs": [],
   "source": []
  }
 ],
 "metadata": {
  "anaconda-cloud": {},
  "kernelspec": {
   "display_name": "Python 3",
   "language": "python",
   "name": "python3"
  },
  "language_info": {
   "codemirror_mode": {
    "name": "ipython",
    "version": 3
   },
   "file_extension": ".py",
   "mimetype": "text/x-python",
   "name": "python",
   "nbconvert_exporter": "python",
   "pygments_lexer": "ipython3",
   "version": "3.6.3"
  }
 },
 "nbformat": 4,
 "nbformat_minor": 1
}
