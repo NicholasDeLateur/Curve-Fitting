{
 "cells": [
  {
   "cell_type": "code",
   "execution_count": 1,
   "metadata": {
    "collapsed": false
   },
   "outputs": [],
   "source": [
    "%matplotlib inline\n",
    "import numpy as np\n",
    "import matplotlib.pyplot as plt\n",
    "from scipy.optimize import curve_fit\n",
    "import pandas as pd"
   ]
  },
  {
   "cell_type": "code",
   "execution_count": 19,
   "metadata": {
    "collapsed": false
   },
   "outputs": [],
   "source": [
    "def equation_to_fit(x, basal_expression, maximal_expression, EC50, n):\n",
    "    ''' this is for a hill function of gene activation'''\n",
    "    return basal_expression + (((maximal_expression - basal_expression) * x**n) / (EC50 + (x)**n))\n",
    "list_of_params_to_fit = ['basal_expression', 'maximal_expression', 'EC50', 'n']"
   ]
  },
  {
   "cell_type": "code",
   "execution_count": 20,
   "metadata": {
    "collapsed": false
   },
   "outputs": [],
   "source": [
    "def report_paramaters(fit_param_names, fit_param_values, fit_param_stdevs):\n",
    "    for each in range(len(fit_param_names)):\n",
    "        print(fit_param_names[each], 'is ', fit_param_values[each], 'with a standard deviation of ', fit_param_stdevs[each])"
   ]
  },
  {
   "cell_type": "code",
   "execution_count": 45,
   "metadata": {
    "collapsed": false
   },
   "outputs": [
    {
     "data": {
      "text/html": [
       "<div>\n",
       "<table border=\"1\" class=\"dataframe\">\n",
       "  <thead>\n",
       "    <tr style=\"text-align: right;\">\n",
       "      <th></th>\n",
       "      <th>lasAHL_nM</th>\n",
       "      <th>MEFL_geomean</th>\n",
       "    </tr>\n",
       "  </thead>\n",
       "  <tbody>\n",
       "    <tr>\n",
       "      <th>0</th>\n",
       "      <td>2000.00</td>\n",
       "      <td>648.00</td>\n",
       "    </tr>\n",
       "    <tr>\n",
       "      <th>1</th>\n",
       "      <td>1000.00</td>\n",
       "      <td>652.00</td>\n",
       "    </tr>\n",
       "    <tr>\n",
       "      <th>2</th>\n",
       "      <td>500.00</td>\n",
       "      <td>629.00</td>\n",
       "    </tr>\n",
       "    <tr>\n",
       "      <th>3</th>\n",
       "      <td>100.00</td>\n",
       "      <td>568.00</td>\n",
       "    </tr>\n",
       "    <tr>\n",
       "      <th>4</th>\n",
       "      <td>50.00</td>\n",
       "      <td>571.00</td>\n",
       "    </tr>\n",
       "    <tr>\n",
       "      <th>5</th>\n",
       "      <td>10.00</td>\n",
       "      <td>203.00</td>\n",
       "    </tr>\n",
       "    <tr>\n",
       "      <th>6</th>\n",
       "      <td>5.00</td>\n",
       "      <td>179.00</td>\n",
       "    </tr>\n",
       "    <tr>\n",
       "      <th>7</th>\n",
       "      <td>1.00</td>\n",
       "      <td>71.20</td>\n",
       "    </tr>\n",
       "    <tr>\n",
       "      <th>8</th>\n",
       "      <td>0.50</td>\n",
       "      <td>39.30</td>\n",
       "    </tr>\n",
       "    <tr>\n",
       "      <th>9</th>\n",
       "      <td>0.10</td>\n",
       "      <td>5.28</td>\n",
       "    </tr>\n",
       "    <tr>\n",
       "      <th>10</th>\n",
       "      <td>0.05</td>\n",
       "      <td>4.73</td>\n",
       "    </tr>\n",
       "    <tr>\n",
       "      <th>11</th>\n",
       "      <td>0.00</td>\n",
       "      <td>3.76</td>\n",
       "    </tr>\n",
       "  </tbody>\n",
       "</table>\n",
       "</div>"
      ],
      "text/plain": [
       "    lasAHL_nM  MEFL_geomean\n",
       "0     2000.00        648.00\n",
       "1     1000.00        652.00\n",
       "2      500.00        629.00\n",
       "3      100.00        568.00\n",
       "4       50.00        571.00\n",
       "5       10.00        203.00\n",
       "6        5.00        179.00\n",
       "7        1.00         71.20\n",
       "8        0.50         39.30\n",
       "9        0.10          5.28\n",
       "10       0.05          4.73\n",
       "11       0.00          3.76"
      ]
     },
     "execution_count": 45,
     "metadata": {},
     "output_type": "execute_result"
    }
   ],
   "source": [
    "path = \"HillTestData.xlsx\"\n",
    "MyData = pd.read_excel(path)\n",
    "MyData"
   ]
  },
  {
   "cell_type": "code",
   "execution_count": 53,
   "metadata": {
    "collapsed": false
   },
   "outputs": [
    {
     "name": "stdout",
     "output_type": "stream",
     "text": [
      "basal_expression is  18.2178407585 with a standard deviation of  15.4128366897\n",
      "maximal_expression is  649.903088838 with a standard deviation of  19.8531809267\n",
      "EC50 is  27.6558299312 with a standard deviation of  13.766566105\n",
      "n is  1.21086124447 with a standard deviation of  0.185069700894\n"
     ]
    }
   ],
   "source": [
    "'''Return the fitted paramaters and their covariance for the fitted curve'''\n",
    "init_guess = [min(MyData.lasAHL_nM), max(MyData.lasAHL_nM), 10, 2]\n",
    "low_bounds = [0, 0, 0, 0]\n",
    "up_bounds = [100000, 100000, 100000, 10]\n",
    "fit_params, covar_params = curve_fit(equation_to_fit, MyData.lasAHL_nM, MyData.MEFL_geomean, p0 = init_guess, bounds=(low_bounds, up_bounds)) \n",
    "std_dev_error_of_fit_params = np.sqrt(np.diag(covar_params))\n",
    "report_paramaters(list_of_params_to_fit, fit_params, std_dev_error_of_fit_params)"
   ]
  },
  {
   "cell_type": "code",
   "execution_count": 54,
   "metadata": {
    "collapsed": false
   },
   "outputs": [
    {
     "data": {
      "image/png": "[encoded data removed]",
      "text/plain": [
       "<matplotlib.figure.Figure at 0xa8441d0>"
      ]
     },
     "metadata": {},
     "output_type": "display_data"
    }
   ],
   "source": [
    "plt.scatter(MyData.lasAHL_nM, MyData.MEFL_geomean, c='r', label='data')\n",
    "plt.plot(MyData.lasAHL_nM, equation_to_fit(MyData.lasAHL_nM, *fit_params), c='g', label='fit')\n",
    "\n",
    "plt.xlabel('lasAHL_nM')\n",
    "plt.ylabel('MEFL_geomean')\n",
    "plt.legend(loc = 'best')\n",
    "plt.xscale('log')\n",
    "plt.yscale('log')\n",
    "plt.grid()\n",
    "plt.xlim([min(MyData.lasAHL_nM) * 0.5, max(MyData.lasAHL_nM * 1.5)])\n",
    "plt.ylim([min(MyData.MEFL_geomean) * 0.5, max(MyData.MEFL_geomean) * 1.5])\n",
    "plt.show()"
   ]
  },
  {
   "cell_type": "code",
   "execution_count": null,
   "metadata": {
    "collapsed": true
   },
   "outputs": [],
   "source": []
  }
 ],
 "metadata": {
  "kernelspec": {
   "display_name": "Python 3",
   "language": "python",
   "name": "python3"
  },
  "language_info": {
   "codemirror_mode": {
    "name": "ipython",
    "version": 3
   },
   "file_extension": ".py",
   "mimetype": "text/x-python",
   "name": "python",
   "nbconvert_exporter": "python",
   "pygments_lexer": "ipython3",
   "version": "3.5.4"
  }
 },
 "nbformat": 4,
 "nbformat_minor": 0
}
