{
 "cells": [
  {
   "cell_type": "code",
   "execution_count": 1,
   "metadata": {
    "collapsed": false
   },
   "outputs": [],
   "source": [
    "%matplotlib inline\n",
    "import numpy as np\n",
    "import matplotlib.pyplot as plt\n",
    "import pandas as pd\n",
    "from scipy.optimize import curve_fit"
   ]
  },
  {
   "cell_type": "code",
   "execution_count": 2,
   "metadata": {
    "collapsed": false
   },
   "outputs": [],
   "source": [
    "def equation_to_fit(x, basal, maximal, Kd, n):\n",
    "    Y = basal + maximal * (x**n / (Kd + x**n))\n",
    "    return Y\n",
    "\n",
    "def log_equation_to_fit(x, basal, maximal, Kd, n):\n",
    "    Y = np.log10(equation_to_fit(x, basal, maximal, Kd, n))\n",
    "    return Y\n",
    "                          \n",
    "list_of_params_to_fit = ['Basal', 'Max', 'Kd', 'n']"
   ]
  },
  {
   "cell_type": "code",
   "execution_count": 3,
   "metadata": {
    "collapsed": true
   },
   "outputs": [],
   "source": [
    "def report_paramaters(fit_param_names, fit_param_values, fit_param_stdevs):\n",
    "    for each in range(len(fit_param_names)):\n",
    "        print(fit_param_names[each], 'is', fit_param_values[each], 'with a standard deviation of', fit_param_stdevs[each])"
   ]
  },
  {
   "cell_type": "code",
   "execution_count": 4,
   "metadata": {
    "collapsed": false
   },
   "outputs": [],
   "source": [
    "path = \"/Users/Weiss Lab/Documents/Jupyter Notebooks/Curve-Fitting/HillTestData.xlsx\"\n",
    "#path = \"/Users/Nicholas/Documents/Jupyter Notebooks/Curve-Fitting/HillTestData.xlsx\"\n",
    "MyData = pd.read_excel(path)\n",
    "######################## Some reminders ####################################\n",
    "# MyData                                    # Shows the entire dataframe\n",
    "# MyData.x                                  # Data of column called \"x\"\n",
    "# MyData.iloc[0,:]                          # First row\n",
    "# MyData.iloc[:,0]                          # First column\n",
    "# MyData.columns[0]                         # Name of first column\n",
    "# MyData['Seconds'] = 3600 * MyData.Hours   # Create a new column named as such and caluclated as such"
   ]
  },
  {
   "cell_type": "code",
   "execution_count": 8,
   "metadata": {
    "collapsed": false
   },
   "outputs": [
    {
     "name": "stdout",
     "output_type": "stream",
     "text": [
      "Basal is 3.08026908955 with a standard deviation of 0.83128314546\n",
      "Max is 620.776998915 with a standard deviation of 87.8331116871\n",
      "Kd is 11.6424718118 with a standard deviation of 2.94953229915\n",
      "n is 1.04082792532 with a standard deviation of 0.125015189515\n"
     ]
    }
   ],
   "source": [
    "'''Return the fitted paramaters and their covariance for the fitted curve'''\n",
    "init_guess = [1, 1, 1, 1]\n",
    "low_bounds = [0, 0, 0, 0]\n",
    "up_bounds = [10000, 10000, 10000, 10000]\n",
    "fit_params, covar = curve_fit(log_equation_to_fit, MyData.iloc[:,0], np.log10(MyData.iloc[:,1]), p0 = init_guess, bounds=(low_bounds, up_bounds)) \n",
    "std_dev_error_of_fit_params = np.sqrt(np.diag(covar))\n",
    "report_paramaters(list_of_params_to_fit, fit_params, std_dev_error_of_fit_params)"
   ]
  },
  {
   "cell_type": "code",
   "execution_count": 9,
   "metadata": {
    "collapsed": false
   },
   "outputs": [
    {
     "data": {
      "image/png": "[encoded data removed]",
      "text/plain": [
       "<matplotlib.figure.Figure at 0x1f940f3d630>"
      ]
     },
     "metadata": {},
     "output_type": "display_data"
    }
   ],
   "source": [
    "plt.scatter(MyData.iloc[:,0], MyData.iloc[:,1], c='b', label='Data')\n",
    "plt.plot(MyData.iloc[:,0], equation_to_fit(MyData.iloc[:,0], *fit_params), c='r', label='fit')\n",
    "plt.xlabel(MyData.columns[0])\n",
    "plt.ylabel(MyData.columns[1])\n",
    "plt.legend(loc = 'best')\n",
    "plt.xscale('log')\n",
    "plt.yscale('log')\n",
    "plt.grid()\n",
    "plt.show()"
   ]
  },
  {
   "cell_type": "code",
   "execution_count": null,
   "metadata": {
    "collapsed": true
   },
   "outputs": [],
   "source": []
  },
  {
   "cell_type": "code",
   "execution_count": null,
   "metadata": {
    "collapsed": true
   },
   "outputs": [],
   "source": []
  }
 ],
 "metadata": {
  "anaconda-cloud": {},
  "kernelspec": {
   "display_name": "Python 3",
   "language": "python",
   "name": "python3"
  },
  "language_info": {
   "codemirror_mode": {
    "name": "ipython",
    "version": 3
   },
   "file_extension": ".py",
   "mimetype": "text/x-python",
   "name": "python",
   "nbconvert_exporter": "python",
   "pygments_lexer": "ipython3",
   "version": "3.5.1"
  }
 },
 "nbformat": 4,
 "nbformat_minor": 1
}
