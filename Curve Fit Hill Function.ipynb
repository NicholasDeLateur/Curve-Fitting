{
 "cells": [
  {
   "cell_type": "code",
   "execution_count": 20,
   "metadata": {
    "collapsed": false
   },
   "outputs": [],
   "source": [
    "%matplotlib inline\n",
    "import numpy as np\n",
    "import matplotlib.pyplot as plt\n",
    "from scipy.optimize import curve_fit\n",
    "import pandas as pd"
   ]
  },
  {
   "cell_type": "code",
   "execution_count": 21,
   "metadata": {
    "collapsed": true
   },
   "outputs": [],
   "source": [
    "def equation_to_fit(x, basal, maximal, Kd, n):\n",
    "    Y = basal + maximal * (x**n / (Kd + x**n))\n",
    "    return Y\n",
    "list_of_params_to_fit = ['Basal', 'Max', 'Kd', 'n']"
   ]
  },
  {
   "cell_type": "code",
   "execution_count": 22,
   "metadata": {
    "collapsed": true
   },
   "outputs": [],
   "source": [
    "def report_paramaters(fit_param_names, fit_param_values, fit_param_stdevs):\n",
    "    for each in range(len(fit_param_names)):\n",
    "        print(fit_param_names[each], 'is', fit_param_values[each], 'with a standard deviation of', fit_param_stdevs[each])"
   ]
  },
  {
   "cell_type": "code",
   "execution_count": 27,
   "metadata": {
    "collapsed": false
   },
   "outputs": [],
   "source": [
    "path = \"/Users/Weiss Lab/Documents/Jupyter Notebooks/Curve-Fitting/HillTestData.xlsx\"\n",
    "#path = \"/Users/Nicholas/Documents/Jupyter Notebooks/Curve-Fitting/HillTestData.xlsx\"\n",
    "MyData = pd.read_excel(path)\n",
    "\n",
    "\n",
    "######################## Some reminders ########################\n",
    "# MyData                  # Shows the entire dataframe\n",
    "# MyData.x                # Data of column called \"x\"\n",
    "# MyData.iloc[0,:]        # First row\n",
    "# MyData.iloc[:,0]        # First column\n",
    "# MyData.columns[0]       # Name of first column"
   ]
  },
  {
   "cell_type": "code",
   "execution_count": 24,
   "metadata": {
    "collapsed": false
   },
   "outputs": [
    {
     "name": "stdout",
     "output_type": "stream",
     "text": [
      "Basal is 18.2177218987 with a standard deviation of 15.4128480541\n",
      "Max is 631.685454095 with a standard deviation of 26.606250531\n",
      "Kd is 27.6556260327 with a standard deviation of 13.7664339102\n",
      "n is 1.21085880615 with a standard deviation of 0.185069274678\n"
     ]
    }
   ],
   "source": [
    "'''Return the fitted paramaters and their covariance for the fitted curve'''\n",
    "init_guess = [1, 1, 1, 1]\n",
    "low_bounds = [0, 0, 0, 0]\n",
    "up_bounds = [10000, 10000, 10000, 10000]\n",
    "fit_params, covar_params = curve_fit(equation_to_fit, MyData.iloc[:,0], MyData.iloc[:,1], p0 = init_guess, bounds=(low_bounds, up_bounds)) \n",
    "std_dev_error_of_fit_params = np.sqrt(np.diag(covar_params))\n",
    "report_paramaters(list_of_params_to_fit, fit_params, std_dev_error_of_fit_params)"
   ]
  },
  {
   "cell_type": "code",
   "execution_count": 28,
   "metadata": {
    "collapsed": false
   },
   "outputs": [
    {
     "data": {
      "image/png": "[encoded data removed]",
      "text/plain": [
       "<matplotlib.figure.Figure at 0x1809a3bb320>"
      ]
     },
     "metadata": {},
     "output_type": "display_data"
    }
   ],
   "source": [
    "plt.scatter(MyData.iloc[:,0], MyData.iloc[:,1], c='g', label='Data')\n",
    "plt.plot(MyData.iloc[:,0], equation_to_fit(MyData.iloc[:,0], *fit_params), c='r', label='fit')\n",
    "plt.xlabel(MyData.columns[0])\n",
    "plt.ylabel(MyData.columns[1])\n",
    "plt.legend(loc = 'best')\n",
    "plt.xscale('log')\n",
    "plt.yscale('log')\n",
    "plt.grid()\n",
    "plt.show()"
   ]
  },
  {
   "cell_type": "code",
   "execution_count": null,
   "metadata": {
    "collapsed": true
   },
   "outputs": [],
   "source": []
  }
 ],
 "metadata": {
  "anaconda-cloud": {},
  "kernelspec": {
   "display_name": "Python 3",
   "language": "python",
   "name": "python3"
  },
  "language_info": {
   "codemirror_mode": {
    "name": "ipython",
    "version": 3
   },
   "file_extension": ".py",
   "mimetype": "text/x-python",
   "name": "python",
   "nbconvert_exporter": "python",
   "pygments_lexer": "ipython3",
   "version": "3.5.1"
  }
 },
 "nbformat": 4,
 "nbformat_minor": 1
}
