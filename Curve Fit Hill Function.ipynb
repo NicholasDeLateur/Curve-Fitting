{
 "cells": [
  {
   "cell_type": "code",
   "execution_count": 1,
   "metadata": {
    "collapsed": true
   },
   "outputs": [],
   "source": [
    "%matplotlib inline\n",
    "import numpy as np\n",
    "import matplotlib.pyplot as plt\n",
    "import pandas as pd\n",
    "from scipy.optimize import curve_fit\n",
    "import os"
   ]
  },
  {
   "cell_type": "code",
   "execution_count": 2,
   "metadata": {
    "collapsed": true
   },
   "outputs": [],
   "source": [
    "def equation_to_fit(x, basal, maximal, Kd, n):\n",
    "    return basal + maximal * (x**n / (Kd + x**n))\n",
    "\n",
    "def log_equation_to_fit(x, basal, maximal, Kd, n):\n",
    "    return np.log10(equation_to_fit(x, basal, maximal, Kd, n))\n",
    "# Unfortunately this is a necessary hack because the curve_fit function doesn't allow you to input function(function)\n",
    "\n",
    "list_of_params_to_fit = ['Basal', 'Max', 'Kd', 'n']"
   ]
  },
  {
   "cell_type": "code",
   "execution_count": 3,
   "metadata": {
    "collapsed": true
   },
   "outputs": [],
   "source": [
    "def report_paramaters(fit_param_names, fit_param_values, fit_param_stdevs):\n",
    "    for each in range(len(fit_param_names)):\n",
    "        print(fit_param_names[each], 'is', fit_param_values[each], 'with a standard deviation of', fit_param_stdevs[each])"
   ]
  },
  {
   "cell_type": "code",
   "execution_count": 4,
   "metadata": {},
   "outputs": [
    {
     "data": {
      "text/html": [
       "<div>\n",
       "<style scoped>\n",
       "    .dataframe tbody tr th:only-of-type {\n",
       "        vertical-align: middle;\n",
       "    }\n",
       "\n",
       "    .dataframe tbody tr th {\n",
       "        vertical-align: top;\n",
       "    }\n",
       "\n",
       "    .dataframe thead th {\n",
       "        text-align: right;\n",
       "    }\n",
       "</style>\n",
       "<table border=\"1\" class=\"dataframe\">\n",
       "  <thead>\n",
       "    <tr style=\"text-align: right;\">\n",
       "      <th></th>\n",
       "      <th>lasAHL (nM)</th>\n",
       "      <th>replicate1</th>\n",
       "      <th>replicate2</th>\n",
       "      <th>replicate3</th>\n",
       "    </tr>\n",
       "  </thead>\n",
       "  <tbody>\n",
       "    <tr>\n",
       "      <th>0</th>\n",
       "      <td>2000.00</td>\n",
       "      <td>1458.900</td>\n",
       "      <td>1783.100</td>\n",
       "      <td>1621.00</td>\n",
       "    </tr>\n",
       "    <tr>\n",
       "      <th>1</th>\n",
       "      <td>1000.00</td>\n",
       "      <td>1776.500</td>\n",
       "      <td>1776.500</td>\n",
       "      <td>1615.00</td>\n",
       "    </tr>\n",
       "    <tr>\n",
       "      <th>2</th>\n",
       "      <td>500.00</td>\n",
       "      <td>1705.000</td>\n",
       "      <td>1705.000</td>\n",
       "      <td>1550.00</td>\n",
       "    </tr>\n",
       "    <tr>\n",
       "      <th>3</th>\n",
       "      <td>100.00</td>\n",
       "      <td>1435.500</td>\n",
       "      <td>1435.500</td>\n",
       "      <td>1305.00</td>\n",
       "    </tr>\n",
       "    <tr>\n",
       "      <th>4</th>\n",
       "      <td>50.00</td>\n",
       "      <td>1382.700</td>\n",
       "      <td>1382.700</td>\n",
       "      <td>1257.00</td>\n",
       "    </tr>\n",
       "    <tr>\n",
       "      <th>5</th>\n",
       "      <td>10.00</td>\n",
       "      <td>632.500</td>\n",
       "      <td>632.500</td>\n",
       "      <td>575.00</td>\n",
       "    </tr>\n",
       "    <tr>\n",
       "      <th>6</th>\n",
       "      <td>5.00</td>\n",
       "      <td>279.400</td>\n",
       "      <td>279.400</td>\n",
       "      <td>254.00</td>\n",
       "    </tr>\n",
       "    <tr>\n",
       "      <th>7</th>\n",
       "      <td>1.00</td>\n",
       "      <td>50.490</td>\n",
       "      <td>50.490</td>\n",
       "      <td>45.90</td>\n",
       "    </tr>\n",
       "    <tr>\n",
       "      <th>8</th>\n",
       "      <td>0.50</td>\n",
       "      <td>24.970</td>\n",
       "      <td>24.970</td>\n",
       "      <td>22.70</td>\n",
       "    </tr>\n",
       "    <tr>\n",
       "      <th>9</th>\n",
       "      <td>0.10</td>\n",
       "      <td>6.204</td>\n",
       "      <td>6.204</td>\n",
       "      <td>5.64</td>\n",
       "    </tr>\n",
       "    <tr>\n",
       "      <th>10</th>\n",
       "      <td>0.05</td>\n",
       "      <td>5.104</td>\n",
       "      <td>5.104</td>\n",
       "      <td>4.64</td>\n",
       "    </tr>\n",
       "    <tr>\n",
       "      <th>11</th>\n",
       "      <td>0.01</td>\n",
       "      <td>2.926</td>\n",
       "      <td>2.926</td>\n",
       "      <td>2.66</td>\n",
       "    </tr>\n",
       "  </tbody>\n",
       "</table>\n",
       "</div>"
      ],
      "text/plain": [
       "    lasAHL (nM)  replicate1  replicate2  replicate3\n",
       "0       2000.00    1458.900    1783.100     1621.00\n",
       "1       1000.00    1776.500    1776.500     1615.00\n",
       "2        500.00    1705.000    1705.000     1550.00\n",
       "3        100.00    1435.500    1435.500     1305.00\n",
       "4         50.00    1382.700    1382.700     1257.00\n",
       "5         10.00     632.500     632.500      575.00\n",
       "6          5.00     279.400     279.400      254.00\n",
       "7          1.00      50.490      50.490       45.90\n",
       "8          0.50      24.970      24.970       22.70\n",
       "9          0.10       6.204       6.204        5.64\n",
       "10         0.05       5.104       5.104        4.64\n",
       "11         0.01       2.926       2.926        2.66"
      ]
     },
     "execution_count": 4,
     "metadata": {},
     "output_type": "execute_result"
    }
   ],
   "source": [
    "data_filename = \"HillTestData_singleX.xlsx\"\n",
    "data_filepath = os.path.abspath(data_filename)\n",
    "MyData = pd.read_excel(data_filepath)\n",
    "MyData\n",
    "######################## Some reminders ####################################\n",
    "# MyData.x                                  # Data of column called \"x\"\n",
    "# MyData.iloc[0,:]                          # First row\n",
    "# MyData.iloc[:,0]                          # First column\n",
    "# MyData.columns[0]                         # Name of first column\n",
    "# MyData['Seconds'] = 3600 * MyData.Hours   # Create a new column named as such and caluclated as such"
   ]
  },
  {
   "cell_type": "code",
   "execution_count": 5,
   "metadata": {},
   "outputs": [
    {
     "name": "stdout",
     "output_type": "stream",
     "text": [
      "Basal is 3.04157651893 with a standard deviation of 0.301623459056\n",
      "Max is 1670.00445783 with a standard deviation of 86.7598948182\n",
      "Kd is 32.1833466116 with a standard deviation of 2.75968445677\n",
      "n is 1.2123357397 with a standard deviation of 0.046332830645\n"
     ]
    }
   ],
   "source": [
    "'''Return the fitted paramaters and their covariance for the fitted curve'''\n",
    "init_guess = [100, 100, 100, 2]\n",
    "low_bounds = [0, 0, 0, 0]\n",
    "up_bounds = [1000000, 1000000, 1000000, 10]\n",
    "fit_params, covar = curve_fit(log_equation_to_fit, MyData.iloc[:,0], np.log10(MyData.iloc[:,1]), p0 = init_guess, bounds=(low_bounds, up_bounds))\n",
    "# Fitting the log of the data to the log of the equation removes bias towards the high points by the residuals\n",
    "# Treats the data more equally; allow accurate basal parameter estimation with minimal loss of accuracy of the maximal expression\n",
    "\n",
    "std_dev_error_of_fit_params = np.sqrt(np.diag(covar))\n",
    "report_paramaters(list_of_params_to_fit, fit_params, std_dev_error_of_fit_params)"
   ]
  },
  {
   "cell_type": "code",
   "execution_count": 6,
   "metadata": {},
   "outputs": [
    {
     "data": {
      "image/png": "[encoded data removed]",
      "text/plain": [
       "<matplotlib.figure.Figure at 0x229d00e1128>"
      ]
     },
     "metadata": {},
     "output_type": "display_data"
    }
   ],
   "source": [
    "plt.scatter(MyData.iloc[:,0], MyData.iloc[:,1], c='b', label='Data')\n",
    "plt.plot(MyData.iloc[:,0], equation_to_fit(MyData.iloc[:,0], *fit_params), c='r', label='fit')\n",
    "plt.xlabel('3OC12HSL (nM)')\n",
    "plt.ylabel('GFP (GeoMean MEFL)')\n",
    "plt.suptitle('Induction curve for pL2f1417', fontsize=12)\n",
    "plt.legend(loc = 'best')\n",
    "plt.xscale('log')\n",
    "plt.xlim(0.01, 1000)\n",
    "plt.yscale('log')\n",
    "plt.grid()\n",
    "plt.savefig('pLasInductionCurve.png', transparent=True, bbox_inches='tight')\n",
    "plt.show()"
   ]
  },
  {
   "cell_type": "code",
   "execution_count": null,
   "metadata": {
    "collapsed": true
   },
   "outputs": [],
   "source": []
  }
 ],
 "metadata": {
  "anaconda-cloud": {},
  "kernelspec": {
   "display_name": "Python 3",
   "language": "python",
   "name": "python3"
  },
  "language_info": {
   "codemirror_mode": {
    "name": "ipython",
    "version": 3
   },
   "file_extension": ".py",
   "mimetype": "text/x-python",
   "name": "python",
   "nbconvert_exporter": "python",
   "pygments_lexer": "ipython3",
   "version": "3.6.3"
  }
 },
 "nbformat": 4,
 "nbformat_minor": 1
}
