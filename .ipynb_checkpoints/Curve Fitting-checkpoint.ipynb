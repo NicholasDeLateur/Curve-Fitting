{
 "cells": [
  {
   "cell_type": "code",
   "execution_count": 1,
   "metadata": {
    "collapsed": false
   },
   "outputs": [],
   "source": [
    "%matplotlib inline\n",
    "import numpy as np\n",
    "import matplotlib.pyplot as plt\n",
    "from scipy.optimize import curve_fit"
   ]
  },
  {
   "cell_type": "code",
   "execution_count": 2,
   "metadata": {
    "collapsed": true
   },
   "outputs": [],
   "source": [
    "def equation_to_fit(x, Vmax, Kd):\n",
    "    return (Vmax * x) / (Kd + x)"
   ]
  },
  {
   "cell_type": "code",
   "execution_count": 5,
   "metadata": {
    "collapsed": false
   },
   "outputs": [
    {
     "data": {
      "image/png": "[encoded data removed]",
      "text/plain": [
       "<matplotlib.figure.Figure at 0x7cbb198>"
      ]
     },
     "metadata": {},
     "output_type": "display_data"
    },
    {
     "name": "stdout",
     "output_type": "stream",
     "text": [
      "[ 99.63177041  59.34386924]\n",
      "[ 0.26340959  1.04773501]\n"
     ]
    }
   ],
   "source": [
    "x_data = np.linspace(0, 1000, 24)\n",
    "y_truedata = equation_to_fit(x_data, 100, 60)\n",
    "\n",
    "'''Create some noise and add it to the y values to represent experimental data'''\n",
    "y_noise = 0.5 * np.random.normal(size = x_data.size)\n",
    "y_experimental = y_truedata + y_noise\n",
    "\n",
    "'''Return the fitted paramaters and their covariance for the fitted curve'''\n",
    "init_guess = [1,1]\n",
    "low_bound = [0,0]\n",
    "up_bound = [1000, 1000]\n",
    "fit_params, covar_params = curve_fit(equation_to_fit, x_data, y_experimental, p0 = init_guess, bounds=(low_bound, up_bound)) \n",
    "#bounds, currently, chosen at random, just example that it's possible\n",
    "std_dev_error_of_fit_params = np.sqrt(np.diag(covar_params))\n",
    "\n",
    "plt.plot(x_data, y_truedata, c='b', label='true')\n",
    "plt.scatter(x_data, y_experimental, c='g', label='data')\n",
    "plt.plot(x_data, equation_to_fit(x_data, *fit_params), c='r', label='fit')\n",
    "\n",
    "plt.xlabel('x')\n",
    "plt.ylabel('y')\n",
    "plt.legend(loc = 'best')\n",
    "plt.grid()\n",
    "plt.show()\n",
    "print(fit_params)\n",
    "print(std_dev_error_of_fit_params)"
   ]
  }
 ],
 "metadata": {
  "kernelspec": {
   "display_name": "Python 3",
   "language": "python",
   "name": "python3"
  },
  "language_info": {
   "codemirror_mode": {
    "name": "ipython",
    "version": 3
   },
   "file_extension": ".py",
   "mimetype": "text/x-python",
   "name": "python",
   "nbconvert_exporter": "python",
   "pygments_lexer": "ipython3",
   "version": "3.5.4"
  }
 },
 "nbformat": 4,
 "nbformat_minor": 0
}
